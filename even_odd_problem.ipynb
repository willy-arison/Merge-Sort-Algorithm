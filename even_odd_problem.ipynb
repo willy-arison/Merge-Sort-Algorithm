{
 "cells": [
  {
   "cell_type": "markdown",
   "metadata": {},
   "source": [
    "## Even-Odd Problem\n",
    "\n",
    "We are faced with a problem of even odd numbers. We are given a list of requests. Each request has an id number(The ids are not unique so they may repeat themselves). In general, the requests should be processed in the order on decreasing id. But also requests with odd ids have priority over requests with even ids.\n",
    "\n",
    "\n",
    "Accordingly, for any pair $i<j$, we say that $(i, j)$ is a violation if $a_i < a_j$, $a_i$ is even and $a_j$ is odd. Given a sequence \n",
    "\n",
    "$$\n",
    "\\left[a_0, a_1, \\cdots, a_{n-1}\\right]\n",
    "$$\n",
    "\n",
    "We want to see how bad our sequence is. More precisely, We need to compute how many violations are in the sequence.\n",
    "\n"
   ]
  },
  {
   "cell_type": "markdown",
   "metadata": {},
   "source": [
    "The most general approach to this problem is the brute force solution."
   ]
  },
  {
   "cell_type": "code",
   "execution_count": 6,
   "metadata": {},
   "outputs": [],
   "source": [
    "def even_odd(sequence: list):\n",
    "    nb_violations = 0\n",
    "    n = len(sequence)               # O(1) time. \n",
    "    for i in range(n-1):            # Outer loop is executed n-1 times.         \n",
    "        for j in range(i+1, n):     # in iteration i, the inner loop\n",
    "                                    # is executed n-i-1 times.\n",
    "            if sequence[i]%2==0 and sequence[j]%2!=0 and sequence[i]<sequence[j]:  # O(1)\n",
    "                nb_violations += 1\n",
    "\n",
    "    return nb_violations\n"
   ]
  },
  {
   "cell_type": "markdown",
   "metadata": {},
   "source": [
    "The total running time of `even_odd` is therefore \n",
    "\n",
    "$$\n",
    "O(1) + \\sum_{i=0}^{n-2} \\sum_{j=i+1}^{n-1} O(1)\n",
    "$$\n",
    "\n",
    "Therefore, the time complexity of `even_odd` has the order of magnitude $n^2$."
   ]
  },
  {
   "cell_type": "code",
   "execution_count": 1,
   "metadata": {},
   "outputs": [],
   "source": [
    "import numpy as np"
   ]
  },
  {
   "cell_type": "code",
   "execution_count": 10,
   "metadata": {},
   "outputs": [],
   "source": [
    "L = [np.random.randint(1, 100, size=1000),\n",
    "     np.random.randint(1, 100, size=2000),\n",
    "     np.random.randint(1, 100, size=3000),\n",
    "     np.random.randint(1, 100, size=4000),\n",
    "     np.random.randint(1, 100, size=5000),\n",
    "     np.random.randint(1, 100, size=1000),\n",
    "     np.random.randint(1, 100, size=7000)]"
   ]
  },
  {
   "cell_type": "code",
   "execution_count": 11,
   "metadata": {},
   "outputs": [
    {
     "name": "stdout",
     "output_type": "stream",
     "text": [
      "60147\n",
      "242086\n",
      "565608\n",
      "1015182\n",
      "1560150\n",
      "59725\n",
      "3130580\n",
      "CPU times: user 24.2 s, sys: 27.9 ms, total: 24.3 s\n",
      "Wall time: 24.3 s\n"
     ]
    }
   ],
   "source": [
    "%%time\n",
    "for array in L:\n",
    "    print(even_odd(array))"
   ]
  },
  {
   "cell_type": "markdown",
   "metadata": {},
   "source": [
    "It works but it takes more time for a long sequence.\n",
    "\n",
    "**Solution**: We can use the `merge-sort` algorithm to do it with time complexity of $O(nlog(n))$"
   ]
  },
  {
   "cell_type": "code",
   "execution_count": 8,
   "metadata": {},
   "outputs": [],
   "source": [
    "def merge(A, left, mid, right, numbers_list):\n",
    "    numbers, less_left, odd = 0, 0, 0\n",
    "    cur_left = left\n",
    "    cur_right = mid + 1\n",
    "    # print(A[left:mid+1], A[mid+1:right+1])\n",
    "    B = []\n",
    "    while cur_left <= mid and cur_right <= right:            \n",
    "        if A[cur_left] <= A[cur_right]:\n",
    "            B.append(A[cur_left])\n",
    "            if A[cur_left]%2==0:\n",
    "                less_left += 1\n",
    "            cur_left += 1\n",
    "        else:\n",
    "            B.append(A[cur_right])\n",
    "            if A[cur_right]%2!=0:\n",
    "                numbers += less_left\n",
    "            cur_right += 1\n",
    "            \n",
    "    while cur_left <= mid:\n",
    "        B.append(A[cur_left])\n",
    "        cur_left += 1\n",
    "\n",
    "    \n",
    "    while cur_right <= right:\n",
    "        if A[cur_right]%2!=0:              # O(1)\n",
    "            odd += 1                       # O(1)\n",
    "                \n",
    "        B.append(A[cur_right])\n",
    "        cur_right += 1\n",
    "\n",
    "    numbers += (less_left * odd)\n",
    "    # print(numbers)\n",
    "    numbers_list[0] += numbers\n",
    "    A[left:right+1] = B[:]\n",
    "    \n",
    "\n",
    "# Merge Sort Algorithm\n",
    "def merge_sort(A, left, right, numbers):\n",
    "    if left >= right:\n",
    "        return \n",
    "    mid = (left + right)//2\n",
    "    merge_sort(A, left, mid, numbers)\n",
    "    merge_sort(A, mid+1, right, numbers)\n",
    "    merge(A, left, mid, right, numbers)\n",
    "    \n",
    "\n",
    "def even_odd_2(A):\n",
    "    \n",
    "    numbers = [0]\n",
    "    merge_sort(A, 0, len(A) - 1, numbers)\n",
    "    return numbers[0]\n",
    "\n",
    "\n",
    "\n"
   ]
  },
  {
   "cell_type": "code",
   "execution_count": 12,
   "metadata": {},
   "outputs": [
    {
     "name": "stdout",
     "output_type": "stream",
     "text": [
      "60147\n",
      "242086\n",
      "565608\n",
      "1015182\n",
      "1560150\n",
      "59725\n",
      "3130580\n",
      "CPU times: user 351 ms, sys: 3.97 ms, total: 355 ms\n",
      "Wall time: 353 ms\n"
     ]
    }
   ],
   "source": [
    "%%time\n",
    "for array in L:\n",
    "    print(even_odd_2(array))"
   ]
  }
 ],
 "metadata": {
  "kernelspec": {
   "display_name": "Python 3",
   "language": "python",
   "name": "python3"
  },
  "language_info": {
   "codemirror_mode": {
    "name": "ipython",
    "version": 3
   },
   "file_extension": ".py",
   "mimetype": "text/x-python",
   "name": "python",
   "nbconvert_exporter": "python",
   "pygments_lexer": "ipython3",
   "version": "3.11.2"
  }
 },
 "nbformat": 4,
 "nbformat_minor": 2
}
